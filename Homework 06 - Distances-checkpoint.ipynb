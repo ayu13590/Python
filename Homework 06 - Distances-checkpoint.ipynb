{
 "cells": [
  {
   "cell_type": "markdown",
   "metadata": {},
   "source": [
    "<div>\n",
    "    <img src=\"images/emlyon.png\" style=\"height:60px; float:left; padding-right:10px; margin-top:5px\" />\n",
    "    <span>\n",
    "        <h1 style=\"padding-bottom:5px;\"> Python BootCamp </h1>\n",
    "        <a href=\"https://masters.em-lyon.com/en/msc-in-digital-marketing-data-science\">[Emlyon]</a> MSc in Digital Marketing & Data Science (DMDS) <br/>\n",
    "         September 2022, Paris | © Saeed VARASTEH [RP] | Lucas VILLAIN\n",
    "    </span>\n",
    "</div>"
   ]
  },
  {
   "cell_type": "markdown",
   "metadata": {},
   "source": [
    "<div class=\"alert-info\" style=\"border-bottom: solid 1px lightgray; background-color:#fff4e3;\">\n",
    "    <img src=\"images/homework.png\" style=\"height:60px; float:left; padding-right:10px;\" />\n",
    "    <span style=\"font-weight:bold; color:#db9425\">\n",
    "        <h4 style=\"padding-top:25px;\"> HOMEWORK 06 </h4>\n",
    "    </span>\n",
    "</div>"
   ]
  },
  {
   "cell_type": "markdown",
   "metadata": {},
   "source": [
    "### Homework 06 - Distances\n",
    "\n",
    "---"
   ]
  },
  {
   "cell_type": "markdown",
   "metadata": {
    "scrolled": true
   },
   "source": [
    "Read in the file \"distances.txt\". It contains numbers with units meters (m), centimeters (cm) and millimeters (mm). Calculate the total distance in meters and print your result. i.e. convert all numbers into the same unit, cast them to floats and calculate the sum of all numbers."
   ]
  },
  {
   "cell_type": "code",
   "execution_count": 20,
   "metadata": {},
   "outputs": [
    {
     "name": "stdout",
     "output_type": "stream",
     "text": [
      "['50 m\\n', '4500 cm\\n', '500 mm\\n', '45 m\\n', '90 m\\n', '100000 cm\\n', '487446 mm']\n",
      "the total distance is: 1717.946 m\n"
     ]
    }
   ],
   "source": [
    "# your code\n",
    "f = open(file =\"bootcamp\\\\data\\\\distances.txt\" , mode=\"r\")\n",
    "output = f.readlines()\n",
    "print(output)\n",
    "\n",
    "distance_1 = 50\n",
    "distance_2 = 45\n",
    "distance_3 = 90\n",
    "cm_to_m = float(4500*0.01)  \n",
    "mm_to_m = float(500*0.001)\n",
    "cm_to_m2 = float(100000*0.01)\n",
    "mm_to_m2 = float(487446*0.001)\n",
    "\n",
    "total_distance = distance_1 + distance_2 + distance_3 + cm_to_m + mm_to_m + cm_to_m2 + mm_to_m2\n",
    "print(\"the total distance is:\", total_distance, \"m\")"
   ]
  },
  {
   "cell_type": "markdown",
   "metadata": {},
   "source": [
    "---"
   ]
  },
  {
   "cell_type": "code",
   "execution_count": null,
   "metadata": {},
   "outputs": [],
   "source": [
    "\n"
   ]
  },
  {
   "cell_type": "code",
   "execution_count": null,
   "metadata": {},
   "outputs": [],
   "source": []
  }
 ],
 "metadata": {
  "kernelspec": {
   "display_name": "Python 3 (ipykernel)",
   "language": "python",
   "name": "python3"
  },
  "language_info": {
   "codemirror_mode": {
    "name": "ipython",
    "version": 3
   },
   "file_extension": ".py",
   "mimetype": "text/x-python",
   "name": "python",
   "nbconvert_exporter": "python",
   "pygments_lexer": "ipython3",
   "version": "3.9.12"
  }
 },
 "nbformat": 4,
 "nbformat_minor": 2
}
