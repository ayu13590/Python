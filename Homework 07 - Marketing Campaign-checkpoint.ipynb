{
 "cells": [
  {
   "cell_type": "markdown",
   "metadata": {},
   "source": [
    "<div>\n",
    "    <img src=\"images/emlyon.png\" style=\"height:60px; float:left; padding-right:10px; margin-top:5px\" />\n",
    "    <span>\n",
    "        <h1 style=\"padding-bottom:5px;\"> Python BootCamp </h1>\n",
    "        <a href=\"https://masters.em-lyon.com/en/msc-in-digital-marketing-data-science\">[Emlyon]</a> MSc in Digital Marketing & Data Science (DMDS) <br/>\n",
    "         September 2022, Paris | © Saeed VARASTEH [RP] | Lucas VILLAIN\n",
    "    </span>\n",
    "</div>"
   ]
  },
  {
   "cell_type": "markdown",
   "metadata": {},
   "source": [
    "<div class=\"alert-info\" style=\"border-bottom: solid 1px lightgray; background-color:#fff4e3;\">\n",
    "    <img src=\"images/homework.png\" style=\"height:60px; float:left; padding-right:10px;\" />\n",
    "    <span style=\"font-weight:bold; color:#db9425\">\n",
    "        <h4 style=\"padding-top:25px;\"> HOMEWORK 07 </h4>\n",
    "    </span>\n",
    "</div>"
   ]
  },
  {
   "cell_type": "markdown",
   "metadata": {},
   "source": [
    "### Homework 07 - Marketing Campaign\n",
    "\n",
    "---"
   ]
  },
  {
   "cell_type": "markdown",
   "metadata": {},
   "source": [
    "The aim of this exercise is to evaluate your abilities for applying your theoretical knowledge to a practical case in the universe of online advertising."
   ]
  },
  {
   "cell_type": "markdown",
   "metadata": {},
   "source": [
    "<h4>Description of the dataset</h4>\n",
    "\n",
    "The dataset __campaign.csv__ contains a full day of impressions for one particular mobile campaign. Each row corresponds to an impression. The characteristics of each impression are presented in columns and we are more particularly interested in the outcome of the impression: the occurrence of a click or the occurrence of a conversion following a click. The list of columns is classified below by topic:\n",
    "\n",
    "unixtimestamp of impression <br/>\n",
    "admantx <span style=\"color:gray\">(external partner which indicate interests of given user)</span>  <br/>\n",
    "exelate <span style=\"color:gray\">(external partner which indicate interests of given user)</span>  <br/>\n",
    "browserHeight / browserWidth / deviceHeight / deviceWidth / documentHeight / documentWidth last24hClicks / last24hClicksOnAdvertiser / ... <span style=\"color:gray\">(historic interactions of given user with our inventory)</span> <br/>\n",
    "browserLanguage / browserName / os <br/>\n",
    "adSpaceId / adSpacePrimaryThematic <br/>\n",
    "city <br/>\n",
    "formatId / containerId / advertiserId / creativeId <br/>\n",
    "deviceReferrer <br/>\n",
    "click <br/>\n",
    "conversion <br/>"
   ]
  },
  {
   "cell_type": "markdown",
   "metadata": {},
   "source": [
    "__Your Task__\n",
    "\n",
    "Read and clean the dataset (remove missing values, select relevant columns, and convert column types if necessary).\n",
    "\n",
    "Explore data, create visualizations, and look for patterns. Try to find the relationship between the features and the occurrence of a click.\n",
    "\n",
    "Use a statistical method that can identify the factors (features, columns) which seem to be the most influential for a click occurrence.\n",
    "\n",
    "Comment/document everything."
   ]
  },
  {
   "cell_type": "code",
   "execution_count": null,
   "metadata": {},
   "outputs": [],
   "source": [
    "# your code\n",
    "\n"
   ]
  },
  {
   "cell_type": "markdown",
   "metadata": {},
   "source": [
    "---"
   ]
  },
  {
   "cell_type": "code",
   "execution_count": null,
   "metadata": {},
   "outputs": [],
   "source": []
  }
 ],
 "metadata": {
  "kernelspec": {
   "display_name": "Python 3 (ipykernel)",
   "language": "python",
   "name": "python3"
  },
  "language_info": {
   "codemirror_mode": {
    "name": "ipython",
    "version": 3
   },
   "file_extension": ".py",
   "mimetype": "text/x-python",
   "name": "python",
   "nbconvert_exporter": "python",
   "pygments_lexer": "ipython3",
   "version": "3.9.12"
  }
 },
 "nbformat": 4,
 "nbformat_minor": 2
}
