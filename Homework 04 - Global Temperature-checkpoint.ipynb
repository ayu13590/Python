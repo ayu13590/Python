{
 "cells": [
  {
   "cell_type": "markdown",
   "metadata": {},
   "source": [
    "<div>\n",
    "    <img src=\"images/emlyon.png\" style=\"height:60px; float:left; padding-right:10px; margin-top:5px\" />\n",
    "    <span>\n",
    "        <h1 style=\"padding-bottom:5px;\"> Python BootCamp </h1>\n",
    "        <a href=\"https://masters.em-lyon.com/en/msc-in-digital-marketing-data-science\">[Emlyon]</a> MSc in Digital Marketing & Data Science (DMDS) <br/>\n",
    "         September 2022, Paris | © Saeed VARASTEH [RP] | Lucas VILLAIN\n",
    "    </span>\n",
    "</div>"
   ]
  },
  {
   "cell_type": "markdown",
   "metadata": {},
   "source": [
    "<div class=\"alert-info\" style=\"border-bottom: solid 1px lightgray; background-color:#fff4e3;\">\n",
    "    <img src=\"images/homework.png\" style=\"height:60px; float:left; padding-right:10px;\" />\n",
    "    <span style=\"font-weight:bold; color:#db9425\">\n",
    "        <h4 style=\"padding-top:25px;\"> HOMEWORK 04 </h4>\n",
    "    </span>\n",
    "</div>"
   ]
  },
  {
   "cell_type": "markdown",
   "metadata": {},
   "source": [
    "### Homework 04 - Global Temperature\n",
    "\n",
    "---"
   ]
  },
  {
   "cell_type": "markdown",
   "metadata": {
    "scrolled": true
   },
   "source": [
    "Let us implement a simplified formula for the increase in global temperature levels due to the radiative forcing of CO2 level changes."
   ]
  },
  {
   "cell_type": "markdown",
   "metadata": {},
   "source": [
    "Radiative forcing due to change in CO2 level: $ \\Delta F = \\alpha * ln(\\frac{c_1}{c_0}) $\n",
    "\n",
    "Relation between radiative forcing and temperature: $ \\lambda = \\frac{\\Delta T}{\\Delta F} $\n",
    "\n",
    "$\\alpha$ is fixed at $5.35$ while $\\lambda$ differs from model to model - we will simply use $0.5$.\n",
    "\n",
    "$c_1$ denotes the changed CO2 level, $c_0$ denotes the unchanged CO2 level.\n",
    "\n",
    "Let’s take the CO2 level of January 1970 as the unchanged CO2 level, so $c_0 = 325.03$.\n",
    "\n",
    "Current levels of CO2 were at $c_1 = 411.97$ as of March 2019. We will just assume that the CO2 level has not changed significantly since then for the purposes of our calculations.\n",
    "\n",
    "This would result in a $0.63 K$ increase in global temperature since 1970, which is consistent with the actual change in global temperature, especially considering that there are also other influences on the global climate such as other greenhouse gases."
   ]
  },
  {
   "cell_type": "markdown",
   "metadata": {},
   "source": [
    "__Your Task__\n",
    "\n",
    "1. Calculate how many hours have passed since January 1st 1970 00:00:00.\n",
    "2. Use this time difference to calculate the average CO2 increase per hour since 1970.\n",
    "3. Use this CO2 increase per hour to calculate a projection of what the CO2 level could be in 2100 (assuming that the CO2 increase per hour stays constant).\n",
    "4. Calculate the increase in temperature in from 1970 to 2100 (use your projected CO2 level as $c_1$ and the value from 1970 as $c_0$).\n",
    "5. Now generalize steps 3. and 4. by writing a function \"predict_increase\" that takes an int year larger than 1970 as an input and returns the increase in temperature from 1970 to year."
   ]
  },
  {
   "cell_type": "markdown",
   "metadata": {},
   "source": [
    "Hint: A year has on average 365.25 days.<br/>\n",
    "Hint: You can use `time` or `datetime` modules."
   ]
  },
  {
   "cell_type": "code",
   "execution_count": 28,
   "metadata": {},
   "outputs": [
    {
     "name": "stdout",
     "output_type": "stream",
     "text": [
      "462978.7459881771\n"
     ]
    }
   ],
   "source": [
    "# your code\n",
    "#1 \n",
    "\n",
    "import time\n",
    "\n",
    "hours = time.time()/(3600)\n",
    "print(hours)"
   ]
  },
  {
   "cell_type": "code",
   "execution_count": 29,
   "metadata": {},
   "outputs": [
    {
     "name": "stdout",
     "output_type": "stream",
     "text": [
      "0.00018778399819291102\n"
     ]
    }
   ],
   "source": [
    "#2 \n",
    "c0 = 325.03 \n",
    "c1 = 411.97\n",
    "CO2_Delta = c1 - c0\n",
    "CO2_hr = CO2_Delta/hours #CO2 increase per hour \n",
    "print(CO2_hr)\n",
    "\n",
    "c2 = (c2_year * (CO2_hr*24*365.25)) + (c1 - (CO2_hr*24*90))"
   ]
  },
  {
   "cell_type": "code",
   "execution_count": 39,
   "metadata": {},
   "outputs": [
    {
     "name": "stdout",
     "output_type": "stream",
     "text": [
      "539.0248886606776\n"
     ]
    }
   ],
   "source": [
    "#3 Projection of CO2 level in 2100\n",
    "c2_year = 2100 - 1970 \n",
    "c2 = (c2_year * (CO2_hr*24*365.25)) + c0\n",
    "print(c2)"
   ]
  },
  {
   "cell_type": "markdown",
   "metadata": {},
   "source": [
    "---"
   ]
  },
  {
   "cell_type": "code",
   "execution_count": 36,
   "metadata": {},
   "outputs": [
    {
     "name": "stdout",
     "output_type": "stream",
     "text": [
      "The temperature increase will be 1.5962007246376804 K\n"
     ]
    }
   ],
   "source": [
    "#4\n",
    "\n",
    "temp_rate = 0.63/CO2_Delta #temperature rate of increase per CO2\n",
    "c1 = 545.3057 #2100 CO2 levels \n",
    "c1c0_delta = c1 - c0\n",
    "\n",
    "temp_increase = temp_rate * c1c0_delta\n",
    "print(\"The temperature increase will be\", temp_increase,\"K\")\n",
    "\n",
    "\n",
    "\n",
    "\n"
   ]
  },
  {
   "cell_type": "code",
   "execution_count": 44,
   "metadata": {},
   "outputs": [
    {
     "name": "stdout",
     "output_type": "stream",
     "text": [
      "0.3043478260869563\n",
      "None\n"
     ]
    }
   ],
   "source": [
    "#5\n",
    "\n",
    "def predict_increase(x):\n",
    "    y = (x - 1970) * temp_rate\n",
    "    print(y)\n",
    "    \n",
    "print(predict_increase(2012))\n",
    " \n"
   ]
  },
  {
   "cell_type": "code",
   "execution_count": 45,
   "metadata": {},
   "outputs": [
    {
     "name": "stdout",
     "output_type": "stream",
     "text": [
      "0.5797101449275359\n"
     ]
    }
   ],
   "source": []
  },
  {
   "cell_type": "code",
   "execution_count": 46,
   "metadata": {},
   "outputs": [
    {
     "name": "stdout",
     "output_type": "stream",
     "text": [
      "3.8405797101449255\n"
     ]
    }
   ],
   "source": []
  },
  {
   "cell_type": "code",
   "execution_count": 49,
   "metadata": {},
   "outputs": [
    {
     "name": "stdout",
     "output_type": "stream",
     "text": [
      "3.8405797101449255\n"
     ]
    },
    {
     "ename": "TypeError",
     "evalue": "can only concatenate str (not \"NoneType\") to str",
     "output_type": "error",
     "traceback": [
      "\u001b[1;31m---------------------------------------------------------------------------\u001b[0m",
      "\u001b[1;31mTypeError\u001b[0m                                 Traceback (most recent call last)",
      "Input \u001b[1;32mIn [49]\u001b[0m, in \u001b[0;36m<cell line: 1>\u001b[1;34m()\u001b[0m\n\u001b[1;32m----> 1\u001b[0m \u001b[38;5;28mprint\u001b[39m(\u001b[38;5;124;43m\"\u001b[39;49m\u001b[38;5;124;43mthe temperature will be\u001b[39;49m\u001b[38;5;124;43m\"\u001b[39;49m\u001b[43m \u001b[49m\u001b[38;5;241;43m+\u001b[39;49m\u001b[43m \u001b[49m\u001b[43mpredict_increase\u001b[49m\u001b[43m(\u001b[49m\u001b[38;5;241;43m2500\u001b[39;49m\u001b[43m)\u001b[49m )\n",
      "\u001b[1;31mTypeError\u001b[0m: can only concatenate str (not \"NoneType\") to str"
     ]
    }
   ],
   "source": []
  },
  {
   "cell_type": "code",
   "execution_count": null,
   "metadata": {},
   "outputs": [],
   "source": []
  }
 ],
 "metadata": {
  "kernelspec": {
   "display_name": "Python 3 (ipykernel)",
   "language": "python",
   "name": "python3"
  },
  "language_info": {
   "codemirror_mode": {
    "name": "ipython",
    "version": 3
   },
   "file_extension": ".py",
   "mimetype": "text/x-python",
   "name": "python",
   "nbconvert_exporter": "python",
   "pygments_lexer": "ipython3",
   "version": "3.9.12"
  }
 },
 "nbformat": 4,
 "nbformat_minor": 2
}
